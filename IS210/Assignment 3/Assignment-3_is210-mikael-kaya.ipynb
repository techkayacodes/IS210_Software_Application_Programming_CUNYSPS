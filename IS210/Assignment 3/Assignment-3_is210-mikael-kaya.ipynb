{
 "cells": [
  {
   "cell_type": "code",
   "execution_count": 1,
   "id": "0b3d62f1",
   "metadata": {},
   "outputs": [],
   "source": [
    "#Task 1: Understanding variable print priorities below:"
   ]
  },
  {
   "cell_type": "code",
   "execution_count": 2,
   "id": "9b710a93",
   "metadata": {},
   "outputs": [],
   "source": [
    "RAVEN = 'quoth'"
   ]
  },
  {
   "cell_type": "code",
   "execution_count": 3,
   "id": "521cd91b",
   "metadata": {},
   "outputs": [],
   "source": [
    "RAVEN = 'Nevermore!'"
   ]
  },
  {
   "cell_type": "code",
   "execution_count": 4,
   "id": "27238a7b",
   "metadata": {},
   "outputs": [
    {
     "name": "stdout",
     "output_type": "stream",
     "text": [
      "Nevermore!\n"
     ]
    }
   ],
   "source": [
    "print(RAVEN)"
   ]
  },
  {
   "cell_type": "code",
   "execution_count": 5,
   "id": "43896bbe",
   "metadata": {},
   "outputs": [],
   "source": [
    "#Task 2: Python's order of operations respects parantheses. Creating a mathematical statement in a single-line below:"
   ]
  },
  {
   "cell_type": "code",
   "execution_count": 6,
   "id": "f61ead4f",
   "metadata": {},
   "outputs": [],
   "source": [
    "# PEMDAS\n",
    "WEEKS = (((19%10)+100) + 2**8)/7"
   ]
  },
  {
   "cell_type": "code",
   "execution_count": 7,
   "id": "98eda52a",
   "metadata": {},
   "outputs": [
    {
     "name": "stdout",
     "output_type": "stream",
     "text": [
      "52.142857142857146\n"
     ]
    }
   ],
   "source": [
    "print(WEEKS)"
   ]
  },
  {
   "cell_type": "code",
   "execution_count": 8,
   "id": "dfbf9dd4",
   "metadata": {},
   "outputs": [],
   "source": [
    "#Task 3: Performing a basic slice operation with a string below:"
   ]
  },
  {
   "cell_type": "code",
   "execution_count": 9,
   "id": "ae1db301",
   "metadata": {},
   "outputs": [],
   "source": [
    " WILL_ROBINSON = 'Danger Will Robinson!'"
   ]
  },
  {
   "cell_type": "code",
   "execution_count": 10,
   "id": "28ede4d6",
   "metadata": {},
   "outputs": [
    {
     "name": "stdout",
     "output_type": "stream",
     "text": [
      "Danger \n"
     ]
    }
   ],
   "source": [
    "print(WILL_ROBINSON[:7])"
   ]
  },
  {
   "cell_type": "code",
   "execution_count": 11,
   "id": "c246640b",
   "metadata": {},
   "outputs": [],
   "source": [
    "KLAXON = WILL_ROBINSON[:7]"
   ]
  },
  {
   "cell_type": "code",
   "execution_count": 12,
   "id": "40c87c00",
   "metadata": {},
   "outputs": [
    {
     "name": "stdout",
     "output_type": "stream",
     "text": [
      "Danger \n"
     ]
    }
   ],
   "source": [
    "print(KLAXON)"
   ]
  },
  {
   "cell_type": "code",
   "execution_count": 13,
   "id": "8a576dc5",
   "metadata": {},
   "outputs": [],
   "source": [
    "#Task 4: Trying to Repeat a String:"
   ]
  },
  {
   "cell_type": "code",
   "execution_count": 14,
   "id": "16abb90c",
   "metadata": {},
   "outputs": [
    {
     "name": "stdout",
     "output_type": "stream",
     "text": [
      "Danger Danger Danger Danger Danger \n"
     ]
    }
   ],
   "source": [
    "print(KLAXON*5)"
   ]
  },
  {
   "cell_type": "code",
   "execution_count": 15,
   "id": "22ac70ea",
   "metadata": {},
   "outputs": [],
   "source": [
    "#Task 5: The split() string function allows us to split a string according to a specified delimiter and returns a list of the split statements:"
   ]
  },
  {
   "cell_type": "code",
   "execution_count": 16,
   "id": "f55c56b7",
   "metadata": {},
   "outputs": [],
   "source": [
    " TEENAGE_MUTANT_NINJAS = ('Michaelangelo. Leonardo. Rafael. Donatello. Heroes '\n",
    "                     'in a half shell.')"
   ]
  },
  {
   "cell_type": "code",
   "execution_count": 17,
   "id": "0d02c199",
   "metadata": {},
   "outputs": [],
   "source": [
    "TURTLE_POWER = TEENAGE_MUTANT_NINJAS.split('. ')"
   ]
  },
  {
   "cell_type": "code",
   "execution_count": 18,
   "id": "f7a6a6e8",
   "metadata": {},
   "outputs": [
    {
     "name": "stdout",
     "output_type": "stream",
     "text": [
      "['Michaelangelo', 'Leonardo', 'Rafael', 'Donatello', 'Heroes in a half shell.']\n"
     ]
    }
   ],
   "source": [
    "print(TURTLE_POWER)"
   ]
  },
  {
   "cell_type": "code",
   "execution_count": 19,
   "id": "29e5ee8a",
   "metadata": {},
   "outputs": [],
   "source": [
    "#Task 6: The strip() commands are of great help when dealing with poorly formatted data:"
   ]
  },
  {
   "cell_type": "code",
   "execution_count": 20,
   "id": "71ee674c",
   "metadata": {},
   "outputs": [],
   "source": [
    "NERVOUS_AS = \"\"\"\n",
    "//////////A long-tailed cat in a room full of rockin' chairs.,,,,,,,,,, \"\"\".strip()"
   ]
  },
  {
   "cell_type": "code",
   "execution_count": 21,
   "id": "601652e1",
   "metadata": {},
   "outputs": [],
   "source": [
    "NERVOUS_AS = NERVOUS_AS.lstrip(\"/\"\"\").rstrip(\",\")"
   ]
  },
  {
   "cell_type": "code",
   "execution_count": 22,
   "id": "e2e9a691",
   "metadata": {},
   "outputs": [
    {
     "name": "stdout",
     "output_type": "stream",
     "text": [
      "A long-tailed cat in a room full of rockin' chairs.\n"
     ]
    }
   ],
   "source": [
    "print(NERVOUS_AS)"
   ]
  },
  {
   "cell_type": "code",
   "execution_count": 23,
   "id": "e01f0bc2",
   "metadata": {},
   "outputs": [],
   "source": [
    "#Task 7: One of the simple, though useful, string functions available in Python are the casing functions such as .lower() and .upper():"
   ]
  },
  {
   "cell_type": "code",
   "execution_count": 24,
   "id": "7634285b",
   "metadata": {},
   "outputs": [],
   "source": [
    "MOVIE = 'dr. strangelove or: how i learned to stop worrying and love the bomb'"
   ]
  },
  {
   "cell_type": "code",
   "execution_count": 25,
   "id": "f9138805",
   "metadata": {},
   "outputs": [],
   "source": [
    "ENTITLED = MOVIE.title()"
   ]
  },
  {
   "cell_type": "code",
   "execution_count": 26,
   "id": "02f27644",
   "metadata": {},
   "outputs": [
    {
     "name": "stdout",
     "output_type": "stream",
     "text": [
      "Dr. Strangelove Or: How I Learned To Stop Worrying And Love The Bomb\n"
     ]
    }
   ],
   "source": [
    "print(ENTITLED)"
   ]
  },
  {
   "cell_type": "code",
   "execution_count": 28,
   "id": "0ba218c9",
   "metadata": {},
   "outputs": [],
   "source": [
    "#Task 8: Specifications\n",
    "\n",
    "    #On a new line, create a new variable named IS_TRUE and assign it a value of True\n",
    "    #Create a new variable named IS_FALSE and assign it a value of False\n",
    "    #Create a new variabled named IS_NONE and assign it a value of None\n",
    "    #In a single, one-line statement, use the logical AND operator and the equality operator to test if IS_TRUE is equal to 1 and IS_FALSE is equal to 0\n",
    "    #Store the result into a new variable named INTEGER_EQUIV"
   ]
  },
  {
   "cell_type": "code",
   "execution_count": 29,
   "id": "aa7c0b30",
   "metadata": {},
   "outputs": [],
   "source": [
    "IS_TRUE = True\n",
    "IS_FALSE = False\n",
    "IS_NONE = None"
   ]
  },
  {
   "cell_type": "code",
   "execution_count": 30,
   "id": "88827c72",
   "metadata": {},
   "outputs": [
    {
     "name": "stdout",
     "output_type": "stream",
     "text": [
      "True\n"
     ]
    }
   ],
   "source": [
    "if IS_TRUE == 1 and IS_FALSE == 0:\n",
    "    INTEGER_EQUIV = True\n",
    "    print(INTEGER_EQUIV)"
   ]
  },
  {
   "cell_type": "code",
   "execution_count": null,
   "id": "61bc62da",
   "metadata": {},
   "outputs": [],
   "source": []
  }
 ],
 "metadata": {
  "kernelspec": {
   "display_name": "Python 3",
   "language": "python",
   "name": "python3"
  },
  "language_info": {
   "codemirror_mode": {
    "name": "ipython",
    "version": 3
   },
   "file_extension": ".py",
   "mimetype": "text/x-python",
   "name": "python",
   "nbconvert_exporter": "python",
   "pygments_lexer": "ipython3",
   "version": "3.6.13"
  }
 },
 "nbformat": 4,
 "nbformat_minor": 5
}
