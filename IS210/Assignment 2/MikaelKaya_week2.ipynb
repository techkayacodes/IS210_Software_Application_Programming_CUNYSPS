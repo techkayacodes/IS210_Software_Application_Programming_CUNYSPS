{
 "cells": [
  {
   "cell_type": "code",
   "execution_count": 1,
   "id": "06155241",
   "metadata": {},
   "outputs": [
    {
     "name": "stdout",
     "output_type": "stream",
     "text": [
      "What is your name?Ben\n",
      "Hi, Ben\n"
     ]
    }
   ],
   "source": [
    "name = input(\"What is your name?\");\n",
    "print (\"Hi, \" + name);"
   ]
  },
  {
   "cell_type": "code",
   "execution_count": 2,
   "id": "3dd13360",
   "metadata": {},
   "outputs": [
    {
     "name": "stdout",
     "output_type": "stream",
     "text": [
      "What is your location?New York\n",
      "Wow, I bet it is so cool to live there at New York\n"
     ]
    }
   ],
   "source": [
    "location = input(\"What is your location?\");\n",
    "print (\"Wow, I bet it is so cool to live there at \" + location);"
   ]
  }
 ],
 "metadata": {
  "kernelspec": {
   "display_name": "Python 3",
   "language": "python",
   "name": "python3"
  },
  "language_info": {
   "codemirror_mode": {
    "name": "ipython",
    "version": 3
   },
   "file_extension": ".py",
   "mimetype": "text/x-python",
   "name": "python",
   "nbconvert_exporter": "python",
   "pygments_lexer": "ipython3",
   "version": "3.8.10"
  }
 },
 "nbformat": 4,
 "nbformat_minor": 5
}
